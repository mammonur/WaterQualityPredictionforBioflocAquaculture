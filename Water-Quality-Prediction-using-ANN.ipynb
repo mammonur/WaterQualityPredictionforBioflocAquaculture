{
 "cells": [
  {
   "cell_type": "code",
   "execution_count": 23,
   "metadata": {
    "_cell_guid": "b1076dfc-b9ad-4769-8c92-a6c4dae69d19",
    "_uuid": "8f2839f25d086af736a60e9eeb907d3b93b6e0e5"
   },
   "outputs": [],
   "source": [
    "# This Python 3 environment comes with many helpful analytics libraries installed\n",
    "# It is defined by the kaggle/python docker image: https://github.com/kaggle/docker-python\n",
    "# For example, here's several helpful packages to load in \n",
    "\n",
    "import numpy as np # linear algebra\n",
    "import pandas as pd # data processing, CSV file I/O (e.g. pd.read_csv)\n",
    "\n",
    "# Input data files are available in the \"../input/\" directory.\n",
    "# For example, running this (by clicking run or pressing Shift+Enter) will list the files in the input directory\n",
    "\n",
    "import os\n",
    "#print(os.listdir(\"C:/home/mamun/Downloads/water-quality-prediction-data\"))\n",
    "\n",
    "# Any results you write to the current directory are saved as output."
   ]
  },
  {
   "cell_type": "code",
   "execution_count": 24,
   "metadata": {
    "_cell_guid": "79c7e3d0-c299-4dcb-8224-4455121ee9b0",
    "_kg_hide-input": true,
    "_uuid": "d629ff2d2480ee46fbb7e2d37f6b5fab8052498a"
   },
   "outputs": [
    {
     "data": {
      "text/html": [
       "<div>\n",
       "<style scoped>\n",
       "    .dataframe tbody tr th:only-of-type {\n",
       "        vertical-align: middle;\n",
       "    }\n",
       "\n",
       "    .dataframe tbody tr th {\n",
       "        vertical-align: top;\n",
       "    }\n",
       "\n",
       "    .dataframe thead th {\n",
       "        text-align: right;\n",
       "    }\n",
       "</style>\n",
       "<table border=\"1\" class=\"dataframe\">\n",
       "  <thead>\n",
       "    <tr style=\"text-align: right;\">\n",
       "      <th></th>\n",
       "      <th>STATION CODE</th>\n",
       "      <th>LOCATIONS</th>\n",
       "      <th>STATE</th>\n",
       "      <th>Temp</th>\n",
       "      <th>D.O. (mg/l)</th>\n",
       "      <th>PH</th>\n",
       "      <th>CONDUCTIVITY (µmhos/cm)</th>\n",
       "      <th>B.O.D. (mg/l)</th>\n",
       "      <th>NITRATENAN N+ NITRITENANN (mg/l)</th>\n",
       "      <th>FECAL COLIFORM (MPN/100ml)</th>\n",
       "      <th>TOTAL COLIFORM (MPN/100ml)Mean</th>\n",
       "      <th>year</th>\n",
       "    </tr>\n",
       "  </thead>\n",
       "  <tbody>\n",
       "    <tr>\n",
       "      <th>0</th>\n",
       "      <td>1393</td>\n",
       "      <td>DAMANGANGA AT D/S OF MADHUBAN, DAMAN</td>\n",
       "      <td>DAMAN &amp; DIU</td>\n",
       "      <td>30.6</td>\n",
       "      <td>6.7</td>\n",
       "      <td>7.5</td>\n",
       "      <td>203</td>\n",
       "      <td>NAN</td>\n",
       "      <td>0.1</td>\n",
       "      <td>11</td>\n",
       "      <td>27</td>\n",
       "      <td>2014</td>\n",
       "    </tr>\n",
       "    <tr>\n",
       "      <th>1</th>\n",
       "      <td>1399</td>\n",
       "      <td>ZUARI AT D/S OF PT. WHERE KUMBARJRIA CANAL JOI...</td>\n",
       "      <td>GOA</td>\n",
       "      <td>29.8</td>\n",
       "      <td>5.7</td>\n",
       "      <td>7.2</td>\n",
       "      <td>189</td>\n",
       "      <td>2</td>\n",
       "      <td>0.2</td>\n",
       "      <td>4953</td>\n",
       "      <td>8391</td>\n",
       "      <td>2014</td>\n",
       "    </tr>\n",
       "    <tr>\n",
       "      <th>2</th>\n",
       "      <td>1475</td>\n",
       "      <td>ZUARI AT PANCHAWADI</td>\n",
       "      <td>GOA</td>\n",
       "      <td>29.5</td>\n",
       "      <td>6.3</td>\n",
       "      <td>6.9</td>\n",
       "      <td>179</td>\n",
       "      <td>1.7</td>\n",
       "      <td>0.1</td>\n",
       "      <td>3243</td>\n",
       "      <td>5330</td>\n",
       "      <td>2014</td>\n",
       "    </tr>\n",
       "    <tr>\n",
       "      <th>3</th>\n",
       "      <td>3181</td>\n",
       "      <td>RIVER ZUARI AT BORIM BRIDGE</td>\n",
       "      <td>GOA</td>\n",
       "      <td>29.7</td>\n",
       "      <td>5.8</td>\n",
       "      <td>6.9</td>\n",
       "      <td>64</td>\n",
       "      <td>3.8</td>\n",
       "      <td>0.5</td>\n",
       "      <td>5382</td>\n",
       "      <td>8443</td>\n",
       "      <td>2014</td>\n",
       "    </tr>\n",
       "    <tr>\n",
       "      <th>4</th>\n",
       "      <td>3182</td>\n",
       "      <td>RIVER ZUARI AT MARCAIM JETTY</td>\n",
       "      <td>GOA</td>\n",
       "      <td>29.5</td>\n",
       "      <td>5.8</td>\n",
       "      <td>7.3</td>\n",
       "      <td>83</td>\n",
       "      <td>1.9</td>\n",
       "      <td>0.4</td>\n",
       "      <td>3428</td>\n",
       "      <td>5500</td>\n",
       "      <td>2014</td>\n",
       "    </tr>\n",
       "  </tbody>\n",
       "</table>\n",
       "</div>"
      ],
      "text/plain": [
       "  STATION CODE                                          LOCATIONS  \\\n",
       "0         1393               DAMANGANGA AT D/S OF MADHUBAN, DAMAN   \n",
       "1         1399  ZUARI AT D/S OF PT. WHERE KUMBARJRIA CANAL JOI...   \n",
       "2         1475                                ZUARI AT PANCHAWADI   \n",
       "3         3181                        RIVER ZUARI AT BORIM BRIDGE   \n",
       "4         3182                       RIVER ZUARI AT MARCAIM JETTY   \n",
       "\n",
       "         STATE  Temp D.O. (mg/l)   PH CONDUCTIVITY (µmhos/cm) B.O.D. (mg/l)  \\\n",
       "0  DAMAN & DIU  30.6         6.7  7.5                     203           NAN   \n",
       "1          GOA  29.8         5.7  7.2                     189             2   \n",
       "2          GOA  29.5         6.3  6.9                     179           1.7   \n",
       "3          GOA  29.7         5.8  6.9                      64           3.8   \n",
       "4          GOA  29.5         5.8  7.3                      83           1.9   \n",
       "\n",
       "  NITRATENAN N+ NITRITENANN (mg/l) FECAL COLIFORM (MPN/100ml)  \\\n",
       "0                              0.1                         11   \n",
       "1                              0.2                       4953   \n",
       "2                              0.1                       3243   \n",
       "3                              0.5                       5382   \n",
       "4                              0.4                       3428   \n",
       "\n",
       "  TOTAL COLIFORM (MPN/100ml)Mean  year  \n",
       "0                             27  2014  \n",
       "1                           8391  2014  \n",
       "2                           5330  2014  \n",
       "3                           8443  2014  \n",
       "4                           5500  2014  "
      ]
     },
     "execution_count": 24,
     "metadata": {},
     "output_type": "execute_result"
    }
   ],
   "source": [
    "data=pd.read_csv('/home/mamun/Downloads/Water-Quality-Prediction-using-ANN/water_dataX.csv',encoding=\"ISO-8859-1\")\n",
    "data.fillna(0, inplace=True)\n",
    "data.head()"
   ]
  },
  {
   "cell_type": "code",
   "execution_count": 25,
   "metadata": {
    "_uuid": "f2fa8c8216c8a43293bac6a54ba1b268d7df72ec"
   },
   "outputs": [
    {
     "data": {
      "text/plain": [
       "STATION CODE                        object\n",
       "LOCATIONS                           object\n",
       "STATE                               object\n",
       "Temp                                object\n",
       "D.O. (mg/l)                         object\n",
       "PH                                  object\n",
       "CONDUCTIVITY (µmhos/cm)             object\n",
       "B.O.D. (mg/l)                       object\n",
       "NITRATENAN N+ NITRITENANN (mg/l)    object\n",
       "FECAL COLIFORM (MPN/100ml)          object\n",
       "TOTAL COLIFORM (MPN/100ml)Mean      object\n",
       "year                                 int64\n",
       "dtype: object"
      ]
     },
     "execution_count": 25,
     "metadata": {},
     "output_type": "execute_result"
    }
   ],
   "source": [
    "data.dtypes"
   ]
  },
  {
   "cell_type": "code",
   "execution_count": 26,
   "metadata": {},
   "outputs": [
    {
     "data": {
      "text/plain": [
       "STATION CODE                         object\n",
       "LOCATIONS                            object\n",
       "STATE                                object\n",
       "Temp                                float64\n",
       "D.O. (mg/l)                         float64\n",
       "PH                                  float64\n",
       "CONDUCTIVITY (µmhos/cm)             float64\n",
       "B.O.D. (mg/l)                       float64\n",
       "NITRATENAN N+ NITRITENANN (mg/l)    float64\n",
       "FECAL COLIFORM (MPN/100ml)           object\n",
       "TOTAL COLIFORM (MPN/100ml)Mean      float64\n",
       "year                                  int64\n",
       "dtype: object"
      ]
     },
     "execution_count": 26,
     "metadata": {},
     "output_type": "execute_result"
    }
   ],
   "source": [
    "#conversions\n",
    "data['Temp']=pd.to_numeric(data['Temp'],errors='coerce')\n",
    "data['D.O. (mg/l)']=pd.to_numeric(data['D.O. (mg/l)'],errors='coerce')\n",
    "data['PH']=pd.to_numeric(data['PH'],errors='coerce')\n",
    "data['B.O.D. (mg/l)']=pd.to_numeric(data['B.O.D. (mg/l)'],errors='coerce')\n",
    "data['CONDUCTIVITY (µmhos/cm)']=pd.to_numeric(data['CONDUCTIVITY (µmhos/cm)'],errors='coerce')\n",
    "data['NITRATENAN N+ NITRITENANN (mg/l)']=pd.to_numeric(data['NITRATENAN N+ NITRITENANN (mg/l)'],errors='coerce')\n",
    "data['TOTAL COLIFORM (MPN/100ml)Mean']=pd.to_numeric(data['TOTAL COLIFORM (MPN/100ml)Mean'],errors='coerce')\n",
    "data.dtypes"
   ]
  },
  {
   "cell_type": "code",
   "execution_count": 27,
   "metadata": {},
   "outputs": [
    {
     "data": {
      "text/html": [
       "<div>\n",
       "<style scoped>\n",
       "    .dataframe tbody tr th:only-of-type {\n",
       "        vertical-align: middle;\n",
       "    }\n",
       "\n",
       "    .dataframe tbody tr th {\n",
       "        vertical-align: top;\n",
       "    }\n",
       "\n",
       "    .dataframe thead th {\n",
       "        text-align: right;\n",
       "    }\n",
       "</style>\n",
       "<table border=\"1\" class=\"dataframe\">\n",
       "  <thead>\n",
       "    <tr style=\"text-align: right;\">\n",
       "      <th></th>\n",
       "      <th>STATION CODE</th>\n",
       "      <th>LOCATIONS</th>\n",
       "      <th>STATE</th>\n",
       "      <th>Temp</th>\n",
       "      <th>D.O. (mg/l)</th>\n",
       "      <th>PH</th>\n",
       "      <th>CONDUCTIVITY (µmhos/cm)</th>\n",
       "      <th>B.O.D. (mg/l)</th>\n",
       "      <th>NITRATENAN N+ NITRITENANN (mg/l)</th>\n",
       "      <th>FECAL COLIFORM (MPN/100ml)</th>\n",
       "      <th>TOTAL COLIFORM (MPN/100ml)Mean</th>\n",
       "      <th>year</th>\n",
       "    </tr>\n",
       "  </thead>\n",
       "  <tbody>\n",
       "    <tr>\n",
       "      <th>0</th>\n",
       "      <td>1393</td>\n",
       "      <td>DAMANGANGA AT D/S OF MADHUBAN, DAMAN</td>\n",
       "      <td>DAMAN &amp; DIU</td>\n",
       "      <td>30.6</td>\n",
       "      <td>6.7</td>\n",
       "      <td>7.5</td>\n",
       "      <td>203.0</td>\n",
       "      <td>NaN</td>\n",
       "      <td>0.1</td>\n",
       "      <td>11</td>\n",
       "      <td>27.0</td>\n",
       "      <td>2014</td>\n",
       "    </tr>\n",
       "    <tr>\n",
       "      <th>1</th>\n",
       "      <td>1399</td>\n",
       "      <td>ZUARI AT D/S OF PT. WHERE KUMBARJRIA CANAL JOI...</td>\n",
       "      <td>GOA</td>\n",
       "      <td>29.8</td>\n",
       "      <td>5.7</td>\n",
       "      <td>7.2</td>\n",
       "      <td>189.0</td>\n",
       "      <td>2.0</td>\n",
       "      <td>0.2</td>\n",
       "      <td>4953</td>\n",
       "      <td>8391.0</td>\n",
       "      <td>2014</td>\n",
       "    </tr>\n",
       "    <tr>\n",
       "      <th>2</th>\n",
       "      <td>1475</td>\n",
       "      <td>ZUARI AT PANCHAWADI</td>\n",
       "      <td>GOA</td>\n",
       "      <td>29.5</td>\n",
       "      <td>6.3</td>\n",
       "      <td>6.9</td>\n",
       "      <td>179.0</td>\n",
       "      <td>1.7</td>\n",
       "      <td>0.1</td>\n",
       "      <td>3243</td>\n",
       "      <td>5330.0</td>\n",
       "      <td>2014</td>\n",
       "    </tr>\n",
       "    <tr>\n",
       "      <th>3</th>\n",
       "      <td>3181</td>\n",
       "      <td>RIVER ZUARI AT BORIM BRIDGE</td>\n",
       "      <td>GOA</td>\n",
       "      <td>29.7</td>\n",
       "      <td>5.8</td>\n",
       "      <td>6.9</td>\n",
       "      <td>64.0</td>\n",
       "      <td>3.8</td>\n",
       "      <td>0.5</td>\n",
       "      <td>5382</td>\n",
       "      <td>8443.0</td>\n",
       "      <td>2014</td>\n",
       "    </tr>\n",
       "    <tr>\n",
       "      <th>4</th>\n",
       "      <td>3182</td>\n",
       "      <td>RIVER ZUARI AT MARCAIM JETTY</td>\n",
       "      <td>GOA</td>\n",
       "      <td>29.5</td>\n",
       "      <td>5.8</td>\n",
       "      <td>7.3</td>\n",
       "      <td>83.0</td>\n",
       "      <td>1.9</td>\n",
       "      <td>0.4</td>\n",
       "      <td>3428</td>\n",
       "      <td>5500.0</td>\n",
       "      <td>2014</td>\n",
       "    </tr>\n",
       "  </tbody>\n",
       "</table>\n",
       "</div>"
      ],
      "text/plain": [
       "  STATION CODE                                          LOCATIONS  \\\n",
       "0         1393               DAMANGANGA AT D/S OF MADHUBAN, DAMAN   \n",
       "1         1399  ZUARI AT D/S OF PT. WHERE KUMBARJRIA CANAL JOI...   \n",
       "2         1475                                ZUARI AT PANCHAWADI   \n",
       "3         3181                        RIVER ZUARI AT BORIM BRIDGE   \n",
       "4         3182                       RIVER ZUARI AT MARCAIM JETTY   \n",
       "\n",
       "         STATE  Temp  D.O. (mg/l)   PH  CONDUCTIVITY (µmhos/cm)  \\\n",
       "0  DAMAN & DIU  30.6          6.7  7.5                    203.0   \n",
       "1          GOA  29.8          5.7  7.2                    189.0   \n",
       "2          GOA  29.5          6.3  6.9                    179.0   \n",
       "3          GOA  29.7          5.8  6.9                     64.0   \n",
       "4          GOA  29.5          5.8  7.3                     83.0   \n",
       "\n",
       "   B.O.D. (mg/l)  NITRATENAN N+ NITRITENANN (mg/l) FECAL COLIFORM (MPN/100ml)  \\\n",
       "0            NaN                               0.1                         11   \n",
       "1            2.0                               0.2                       4953   \n",
       "2            1.7                               0.1                       3243   \n",
       "3            3.8                               0.5                       5382   \n",
       "4            1.9                               0.4                       3428   \n",
       "\n",
       "   TOTAL COLIFORM (MPN/100ml)Mean  year  \n",
       "0                            27.0  2014  \n",
       "1                          8391.0  2014  \n",
       "2                          5330.0  2014  \n",
       "3                          8443.0  2014  \n",
       "4                          5500.0  2014  "
      ]
     },
     "execution_count": 27,
     "metadata": {},
     "output_type": "execute_result"
    }
   ],
   "source": [
    "data.head()"
   ]
  },
  {
   "cell_type": "code",
   "execution_count": 28,
   "metadata": {},
   "outputs": [],
   "source": [
    "#new_data = data[['Temp','D.O. (mg/l)','PH','B.O.D. (mg/l)','CONDUCTIVITY (µmhos/cm)','NITRATENAN N+ NITRITENANN (mg/l)','TOTAL COLIFORM (MPN/100ml)Mean']]\n",
    "X = data[['Temp','D.O. (mg/l)','B.O.D. (mg/l)','CONDUCTIVITY (µmhos/cm)','NITRATENAN N+ NITRITENANN (mg/l)','TOTAL COLIFORM (MPN/100ml)Mean']]\n",
    "y = data['PH']"
   ]
  },
  {
   "cell_type": "code",
   "execution_count": 29,
   "metadata": {},
   "outputs": [],
   "source": [
    "X = X.iloc[:1779,:]"
   ]
  },
  {
   "cell_type": "code",
   "execution_count": 30,
   "metadata": {},
   "outputs": [],
   "source": [
    "y = y.iloc[:1779]"
   ]
  },
  {
   "cell_type": "code",
   "execution_count": 31,
   "metadata": {},
   "outputs": [],
   "source": [
    "X = X.replace(np.nan,0)\n",
    "y = y.replace(np.nan,0)"
   ]
  },
  {
   "cell_type": "code",
   "execution_count": 32,
   "metadata": {},
   "outputs": [
    {
     "data": {
      "text/html": [
       "<div>\n",
       "<style scoped>\n",
       "    .dataframe tbody tr th:only-of-type {\n",
       "        vertical-align: middle;\n",
       "    }\n",
       "\n",
       "    .dataframe tbody tr th {\n",
       "        vertical-align: top;\n",
       "    }\n",
       "\n",
       "    .dataframe thead th {\n",
       "        text-align: right;\n",
       "    }\n",
       "</style>\n",
       "<table border=\"1\" class=\"dataframe\">\n",
       "  <thead>\n",
       "    <tr style=\"text-align: right;\">\n",
       "      <th></th>\n",
       "      <th>Temp</th>\n",
       "      <th>D.O. (mg/l)</th>\n",
       "      <th>B.O.D. (mg/l)</th>\n",
       "      <th>CONDUCTIVITY (µmhos/cm)</th>\n",
       "      <th>NITRATENAN N+ NITRITENANN (mg/l)</th>\n",
       "      <th>TOTAL COLIFORM (MPN/100ml)Mean</th>\n",
       "    </tr>\n",
       "  </thead>\n",
       "  <tbody>\n",
       "    <tr>\n",
       "      <th>0</th>\n",
       "      <td>30.6</td>\n",
       "      <td>6.7</td>\n",
       "      <td>0.0</td>\n",
       "      <td>203.0</td>\n",
       "      <td>0.1</td>\n",
       "      <td>27.0</td>\n",
       "    </tr>\n",
       "    <tr>\n",
       "      <th>1</th>\n",
       "      <td>29.8</td>\n",
       "      <td>5.7</td>\n",
       "      <td>2.0</td>\n",
       "      <td>189.0</td>\n",
       "      <td>0.2</td>\n",
       "      <td>8391.0</td>\n",
       "    </tr>\n",
       "    <tr>\n",
       "      <th>2</th>\n",
       "      <td>29.5</td>\n",
       "      <td>6.3</td>\n",
       "      <td>1.7</td>\n",
       "      <td>179.0</td>\n",
       "      <td>0.1</td>\n",
       "      <td>5330.0</td>\n",
       "    </tr>\n",
       "    <tr>\n",
       "      <th>3</th>\n",
       "      <td>29.7</td>\n",
       "      <td>5.8</td>\n",
       "      <td>3.8</td>\n",
       "      <td>64.0</td>\n",
       "      <td>0.5</td>\n",
       "      <td>8443.0</td>\n",
       "    </tr>\n",
       "    <tr>\n",
       "      <th>4</th>\n",
       "      <td>29.5</td>\n",
       "      <td>5.8</td>\n",
       "      <td>1.9</td>\n",
       "      <td>83.0</td>\n",
       "      <td>0.4</td>\n",
       "      <td>5500.0</td>\n",
       "    </tr>\n",
       "  </tbody>\n",
       "</table>\n",
       "</div>"
      ],
      "text/plain": [
       "   Temp  D.O. (mg/l)  B.O.D. (mg/l)  CONDUCTIVITY (µmhos/cm)  \\\n",
       "0  30.6          6.7            0.0                    203.0   \n",
       "1  29.8          5.7            2.0                    189.0   \n",
       "2  29.5          6.3            1.7                    179.0   \n",
       "3  29.7          5.8            3.8                     64.0   \n",
       "4  29.5          5.8            1.9                     83.0   \n",
       "\n",
       "   NITRATENAN N+ NITRITENANN (mg/l)  TOTAL COLIFORM (MPN/100ml)Mean  \n",
       "0                               0.1                            27.0  \n",
       "1                               0.2                          8391.0  \n",
       "2                               0.1                          5330.0  \n",
       "3                               0.5                          8443.0  \n",
       "4                               0.4                          5500.0  "
      ]
     },
     "execution_count": 32,
     "metadata": {},
     "output_type": "execute_result"
    }
   ],
   "source": [
    "X.head()"
   ]
  },
  {
   "cell_type": "code",
   "execution_count": 33,
   "metadata": {},
   "outputs": [
    {
     "data": {
      "text/plain": [
       "0    7.5\n",
       "1    7.2\n",
       "2    6.9\n",
       "3    6.9\n",
       "4    7.3\n",
       "Name: PH, dtype: float64"
      ]
     },
     "execution_count": 33,
     "metadata": {},
     "output_type": "execute_result"
    }
   ],
   "source": [
    "y.head()"
   ]
  },
  {
   "cell_type": "code",
   "execution_count": 34,
   "metadata": {},
   "outputs": [
    {
     "data": {
      "text/plain": [
       "9.01"
      ]
     },
     "execution_count": 34,
     "metadata": {},
     "output_type": "execute_result"
    }
   ],
   "source": [
    "y.max(axis=0)"
   ]
  },
  {
   "cell_type": "code",
   "execution_count": 35,
   "metadata": {},
   "outputs": [
    {
     "data": {
      "text/plain": [
       "0.0"
      ]
     },
     "execution_count": 35,
     "metadata": {},
     "output_type": "execute_result"
    }
   ],
   "source": [
    "y.min(axis=0)"
   ]
  },
  {
   "cell_type": "code",
   "execution_count": 36,
   "metadata": {},
   "outputs": [],
   "source": [
    "y_new = []\n",
    "for i in y_new:\n",
    "    if i>=0 and i<5:\n",
    "        y_new.append(0)\n",
    "    elif i>=5 and i<7:\n",
    "        y_new.append(1)\n",
    "    elif i>=7 and i<8:\n",
    "        y_new.append(2)\n",
    "    elif i>=8:\n",
    "        y_new.append(3)"
   ]
  },
  {
   "cell_type": "code",
   "execution_count": 37,
   "metadata": {},
   "outputs": [],
   "source": [
    "from sklearn.preprocessing import StandardScaler\n",
    "# For scaling\n",
    "scale = StandardScaler()\n",
    "\n",
    "# Batch\n",
    "batch_size = 32\n",
    "\n",
    "#epoch\n",
    "epochs = 120"
   ]
  },
  {
   "cell_type": "code",
   "execution_count": 38,
   "metadata": {},
   "outputs": [],
   "source": [
    "X = scale.fit_transform(X)"
   ]
  },
  {
   "cell_type": "code",
   "execution_count": 39,
   "metadata": {},
   "outputs": [
    {
     "data": {
      "text/plain": [
       "array([[ 1.00998736,  0.2926185 , -0.25626962, -0.29369409, -0.3507443 ,\n",
       "        -0.03806033],\n",
       "       [ 0.84400608, -0.35053564, -0.1761654 , -0.29615736, -0.32607402,\n",
       "        -0.03748532],\n",
       "       [ 0.7817631 ,  0.03535685, -0.18818103, -0.29791684, -0.3507443 ,\n",
       "        -0.03769576],\n",
       "       ...,\n",
       "       [-3.05655408,  2.41502717, -0.21621751, -0.30301932,  0.61139672,\n",
       "        -0.03803813],\n",
       "       [-2.84907748,  1.77187303, -0.18417582, -0.30161174,  1.40084577,\n",
       "        -0.03804294],\n",
       "       [-0.42844793,  0.97886397, -0.23624356, -0.32941147, -0.37541458,\n",
       "        -0.03806219]])"
      ]
     },
     "execution_count": 39,
     "metadata": {},
     "output_type": "execute_result"
    }
   ],
   "source": [
    "X"
   ]
  },
  {
   "cell_type": "code",
   "execution_count": 40,
   "metadata": {},
   "outputs": [],
   "source": [
    "num_classes=4\n",
    "from keras.layers import Input, Dense, Dropout, Activation\n",
    "from keras.models import Sequential, Model\n",
    "def build_model(X, y):\n",
    "    inputs = Input(shape=(X.shape[1],))\n",
    "    outputs = Dense(32, activation='relu')(inputs)\n",
    "    outputs = Dense(64, activation='relu')(outputs)\n",
    "    predictions = Dense(num_classes, activation='softmax')(outputs)\n",
    "    model = Model(inputs=inputs, outputs=predictions)\n",
    "    return model"
   ]
  },
  {
   "cell_type": "code",
   "execution_count": 41,
   "metadata": {},
   "outputs": [],
   "source": [
    "from keras.utils import to_categorical\n",
    "y = to_categorical(y_new, num_classes=num_classes)"
   ]
  },
  {
   "cell_type": "code",
   "execution_count": 42,
   "metadata": {},
   "outputs": [
    {
     "data": {
      "text/plain": [
       "(0, 4)"
      ]
     },
     "execution_count": 42,
     "metadata": {},
     "output_type": "execute_result"
    }
   ],
   "source": [
    "y.shape"
   ]
  },
  {
   "cell_type": "code",
   "execution_count": 43,
   "metadata": {},
   "outputs": [
    {
     "data": {
      "text/plain": [
       "(1779, 6)"
      ]
     },
     "execution_count": 43,
     "metadata": {},
     "output_type": "execute_result"
    }
   ],
   "source": [
    "X.shape"
   ]
  },
  {
   "cell_type": "code",
   "execution_count": 44,
   "metadata": {},
   "outputs": [
    {
     "ename": "ValueError",
     "evalue": "Found input variables with inconsistent numbers of samples: [1779, 0]",
     "output_type": "error",
     "traceback": [
      "\u001b[0;31m---------------------------------------------------------------------------\u001b[0m",
      "\u001b[0;31mValueError\u001b[0m                                Traceback (most recent call last)",
      "\u001b[0;32m<ipython-input-44-faee2f5e8845>\u001b[0m in \u001b[0;36m<module>\u001b[0;34m\u001b[0m\n\u001b[1;32m      1\u001b[0m \u001b[0;32mfrom\u001b[0m \u001b[0msklearn\u001b[0m\u001b[0;34m.\u001b[0m\u001b[0mmodel_selection\u001b[0m \u001b[0;32mimport\u001b[0m \u001b[0mtrain_test_split\u001b[0m\u001b[0;34m\u001b[0m\u001b[0;34m\u001b[0m\u001b[0m\n\u001b[0;32m----> 2\u001b[0;31m \u001b[0mX_train\u001b[0m\u001b[0;34m,\u001b[0m \u001b[0mX_test\u001b[0m\u001b[0;34m,\u001b[0m \u001b[0my_train\u001b[0m\u001b[0;34m,\u001b[0m \u001b[0my_test\u001b[0m \u001b[0;34m=\u001b[0m \u001b[0mtrain_test_split\u001b[0m\u001b[0;34m(\u001b[0m\u001b[0mX\u001b[0m\u001b[0;34m,\u001b[0m \u001b[0my\u001b[0m\u001b[0;34m,\u001b[0m \u001b[0mtest_size\u001b[0m\u001b[0;34m=\u001b[0m\u001b[0;36m0.2\u001b[0m\u001b[0;34m)\u001b[0m\u001b[0;34m\u001b[0m\u001b[0;34m\u001b[0m\u001b[0m\n\u001b[0m",
      "\u001b[0;32m~/anaconda3/lib/python3.8/site-packages/sklearn/model_selection/_split.py\u001b[0m in \u001b[0;36mtrain_test_split\u001b[0;34m(*arrays, **options)\u001b[0m\n\u001b[1;32m   2125\u001b[0m         \u001b[0;32mraise\u001b[0m \u001b[0mTypeError\u001b[0m\u001b[0;34m(\u001b[0m\u001b[0;34m\"Invalid parameters passed: %s\"\u001b[0m \u001b[0;34m%\u001b[0m \u001b[0mstr\u001b[0m\u001b[0;34m(\u001b[0m\u001b[0moptions\u001b[0m\u001b[0;34m)\u001b[0m\u001b[0;34m)\u001b[0m\u001b[0;34m\u001b[0m\u001b[0;34m\u001b[0m\u001b[0m\n\u001b[1;32m   2126\u001b[0m \u001b[0;34m\u001b[0m\u001b[0m\n\u001b[0;32m-> 2127\u001b[0;31m     \u001b[0marrays\u001b[0m \u001b[0;34m=\u001b[0m \u001b[0mindexable\u001b[0m\u001b[0;34m(\u001b[0m\u001b[0;34m*\u001b[0m\u001b[0marrays\u001b[0m\u001b[0;34m)\u001b[0m\u001b[0;34m\u001b[0m\u001b[0;34m\u001b[0m\u001b[0m\n\u001b[0m\u001b[1;32m   2128\u001b[0m \u001b[0;34m\u001b[0m\u001b[0m\n\u001b[1;32m   2129\u001b[0m     \u001b[0mn_samples\u001b[0m \u001b[0;34m=\u001b[0m \u001b[0m_num_samples\u001b[0m\u001b[0;34m(\u001b[0m\u001b[0marrays\u001b[0m\u001b[0;34m[\u001b[0m\u001b[0;36m0\u001b[0m\u001b[0;34m]\u001b[0m\u001b[0;34m)\u001b[0m\u001b[0;34m\u001b[0m\u001b[0;34m\u001b[0m\u001b[0m\n",
      "\u001b[0;32m~/anaconda3/lib/python3.8/site-packages/sklearn/utils/validation.py\u001b[0m in \u001b[0;36mindexable\u001b[0;34m(*iterables)\u001b[0m\n\u001b[1;32m    290\u001b[0m     \"\"\"\n\u001b[1;32m    291\u001b[0m     \u001b[0mresult\u001b[0m \u001b[0;34m=\u001b[0m \u001b[0;34m[\u001b[0m\u001b[0m_make_indexable\u001b[0m\u001b[0;34m(\u001b[0m\u001b[0mX\u001b[0m\u001b[0;34m)\u001b[0m \u001b[0;32mfor\u001b[0m \u001b[0mX\u001b[0m \u001b[0;32min\u001b[0m \u001b[0miterables\u001b[0m\u001b[0;34m]\u001b[0m\u001b[0;34m\u001b[0m\u001b[0;34m\u001b[0m\u001b[0m\n\u001b[0;32m--> 292\u001b[0;31m     \u001b[0mcheck_consistent_length\u001b[0m\u001b[0;34m(\u001b[0m\u001b[0;34m*\u001b[0m\u001b[0mresult\u001b[0m\u001b[0;34m)\u001b[0m\u001b[0;34m\u001b[0m\u001b[0;34m\u001b[0m\u001b[0m\n\u001b[0m\u001b[1;32m    293\u001b[0m     \u001b[0;32mreturn\u001b[0m \u001b[0mresult\u001b[0m\u001b[0;34m\u001b[0m\u001b[0;34m\u001b[0m\u001b[0m\n\u001b[1;32m    294\u001b[0m \u001b[0;34m\u001b[0m\u001b[0m\n",
      "\u001b[0;32m~/anaconda3/lib/python3.8/site-packages/sklearn/utils/validation.py\u001b[0m in \u001b[0;36mcheck_consistent_length\u001b[0;34m(*arrays)\u001b[0m\n\u001b[1;32m    253\u001b[0m     \u001b[0muniques\u001b[0m \u001b[0;34m=\u001b[0m \u001b[0mnp\u001b[0m\u001b[0;34m.\u001b[0m\u001b[0munique\u001b[0m\u001b[0;34m(\u001b[0m\u001b[0mlengths\u001b[0m\u001b[0;34m)\u001b[0m\u001b[0;34m\u001b[0m\u001b[0;34m\u001b[0m\u001b[0m\n\u001b[1;32m    254\u001b[0m     \u001b[0;32mif\u001b[0m \u001b[0mlen\u001b[0m\u001b[0;34m(\u001b[0m\u001b[0muniques\u001b[0m\u001b[0;34m)\u001b[0m \u001b[0;34m>\u001b[0m \u001b[0;36m1\u001b[0m\u001b[0;34m:\u001b[0m\u001b[0;34m\u001b[0m\u001b[0;34m\u001b[0m\u001b[0m\n\u001b[0;32m--> 255\u001b[0;31m         raise ValueError(\"Found input variables with inconsistent numbers of\"\n\u001b[0m\u001b[1;32m    256\u001b[0m                          \" samples: %r\" % [int(l) for l in lengths])\n\u001b[1;32m    257\u001b[0m \u001b[0;34m\u001b[0m\u001b[0m\n",
      "\u001b[0;31mValueError\u001b[0m: Found input variables with inconsistent numbers of samples: [1779, 0]"
     ]
    }
   ],
   "source": [
    "from sklearn.model_selection import train_test_split\n",
    "X_train, X_test, y_train, y_test = train_test_split(X, y, test_size=0.2)"
   ]
  },
  {
   "cell_type": "code",
   "execution_count": 45,
   "metadata": {},
   "outputs": [],
   "source": [
    "from keras.optimizers import Adam\n",
    "optimizer = Adam(lr=0.001, beta_1=0.9, beta_2=0.999)"
   ]
  },
  {
   "cell_type": "code",
   "execution_count": 46,
   "metadata": {},
   "outputs": [],
   "source": [
    "model = build_model(X, y)"
   ]
  },
  {
   "cell_type": "code",
   "execution_count": 47,
   "metadata": {},
   "outputs": [],
   "source": [
    "model.compile(loss='categorical_crossentropy', optimizer=optimizer, metrics=['acc'])"
   ]
  },
  {
   "cell_type": "code",
   "execution_count": 48,
   "metadata": {
    "scrolled": true
   },
   "outputs": [
    {
     "ename": "NameError",
     "evalue": "name 'X_train' is not defined",
     "output_type": "error",
     "traceback": [
      "\u001b[0;31m---------------------------------------------------------------------------\u001b[0m",
      "\u001b[0;31mNameError\u001b[0m                                 Traceback (most recent call last)",
      "\u001b[0;32m<ipython-input-48-5c9b796d20fa>\u001b[0m in \u001b[0;36m<module>\u001b[0;34m\u001b[0m\n\u001b[0;32m----> 1\u001b[0;31m \u001b[0mhistory\u001b[0m \u001b[0;34m=\u001b[0m \u001b[0mmodel\u001b[0m\u001b[0;34m.\u001b[0m\u001b[0mfit\u001b[0m\u001b[0;34m(\u001b[0m\u001b[0mX_train\u001b[0m\u001b[0;34m,\u001b[0m \u001b[0my_train\u001b[0m\u001b[0;34m,\u001b[0m \u001b[0mbatch_size\u001b[0m \u001b[0;34m=\u001b[0m \u001b[0mbatch_size\u001b[0m\u001b[0;34m,\u001b[0m \u001b[0mepochs\u001b[0m \u001b[0;34m=\u001b[0m \u001b[0mepochs\u001b[0m\u001b[0;34m,\u001b[0m \u001b[0mvalidation_data\u001b[0m \u001b[0;34m=\u001b[0m \u001b[0;34m(\u001b[0m\u001b[0mX_test\u001b[0m\u001b[0;34m,\u001b[0m \u001b[0my_test\u001b[0m\u001b[0;34m)\u001b[0m\u001b[0;34m)\u001b[0m\u001b[0;34m\u001b[0m\u001b[0;34m\u001b[0m\u001b[0m\n\u001b[0m",
      "\u001b[0;31mNameError\u001b[0m: name 'X_train' is not defined"
     ]
    }
   ],
   "source": [
    "history = model.fit(X_train, y_train, batch_size = batch_size, epochs = epochs, validation_data = (X_test, y_test))"
   ]
  },
  {
   "cell_type": "code",
   "execution_count": 49,
   "metadata": {},
   "outputs": [
    {
     "ename": "NameError",
     "evalue": "name 'history' is not defined",
     "output_type": "error",
     "traceback": [
      "\u001b[0;31m---------------------------------------------------------------------------\u001b[0m",
      "\u001b[0;31mNameError\u001b[0m                                 Traceback (most recent call last)",
      "\u001b[0;32m<ipython-input-49-18c150a2df10>\u001b[0m in \u001b[0;36m<module>\u001b[0;34m\u001b[0m\n\u001b[1;32m      1\u001b[0m \u001b[0;32mimport\u001b[0m \u001b[0mmatplotlib\u001b[0m\u001b[0;34m.\u001b[0m\u001b[0mpyplot\u001b[0m \u001b[0;32mas\u001b[0m \u001b[0mplt\u001b[0m\u001b[0;34m\u001b[0m\u001b[0;34m\u001b[0m\u001b[0m\n\u001b[0;32m----> 2\u001b[0;31m \u001b[0mplt\u001b[0m\u001b[0;34m.\u001b[0m\u001b[0mplot\u001b[0m\u001b[0;34m(\u001b[0m\u001b[0mhistory\u001b[0m\u001b[0;34m.\u001b[0m\u001b[0mhistory\u001b[0m\u001b[0;34m[\u001b[0m\u001b[0;34m'loss'\u001b[0m\u001b[0;34m]\u001b[0m\u001b[0;34m,\u001b[0m \u001b[0mlabel\u001b[0m\u001b[0;34m=\u001b[0m\u001b[0;34m'train'\u001b[0m\u001b[0;34m)\u001b[0m\u001b[0;34m\u001b[0m\u001b[0;34m\u001b[0m\u001b[0m\n\u001b[0m\u001b[1;32m      3\u001b[0m \u001b[0mplt\u001b[0m\u001b[0;34m.\u001b[0m\u001b[0mplot\u001b[0m\u001b[0;34m(\u001b[0m\u001b[0mhistory\u001b[0m\u001b[0;34m.\u001b[0m\u001b[0mhistory\u001b[0m\u001b[0;34m[\u001b[0m\u001b[0;34m'val_loss'\u001b[0m\u001b[0;34m]\u001b[0m\u001b[0;34m,\u001b[0m \u001b[0mlabel\u001b[0m\u001b[0;34m=\u001b[0m\u001b[0;34m'test'\u001b[0m\u001b[0;34m)\u001b[0m\u001b[0;34m\u001b[0m\u001b[0;34m\u001b[0m\u001b[0m\n\u001b[1;32m      4\u001b[0m \u001b[0mplt\u001b[0m\u001b[0;34m.\u001b[0m\u001b[0mtitle\u001b[0m\u001b[0;34m(\u001b[0m\u001b[0;34m\"Model Loss\"\u001b[0m\u001b[0;34m)\u001b[0m\u001b[0;34m\u001b[0m\u001b[0;34m\u001b[0m\u001b[0m\n\u001b[1;32m      5\u001b[0m \u001b[0mplt\u001b[0m\u001b[0;34m.\u001b[0m\u001b[0mxlabel\u001b[0m\u001b[0;34m(\u001b[0m\u001b[0;34m'Epochs'\u001b[0m\u001b[0;34m)\u001b[0m\u001b[0;34m\u001b[0m\u001b[0;34m\u001b[0m\u001b[0m\n",
      "\u001b[0;31mNameError\u001b[0m: name 'history' is not defined"
     ]
    }
   ],
   "source": [
    "import matplotlib.pyplot as plt\n",
    "plt.plot(history.history['loss'], label='train')\n",
    "plt.plot(history.history['val_loss'], label='test')\n",
    "plt.title(\"Model Loss\")\n",
    "plt.xlabel('Epochs')\n",
    "plt.ylabel('Loss')\n",
    "plt.legend()"
   ]
  },
  {
   "cell_type": "code",
   "execution_count": 50,
   "metadata": {},
   "outputs": [
    {
     "ename": "NameError",
     "evalue": "name 'history' is not defined",
     "output_type": "error",
     "traceback": [
      "\u001b[0;31m---------------------------------------------------------------------------\u001b[0m",
      "\u001b[0;31mNameError\u001b[0m                                 Traceback (most recent call last)",
      "\u001b[0;32m<ipython-input-50-18066ffa3292>\u001b[0m in \u001b[0;36m<module>\u001b[0;34m\u001b[0m\n\u001b[1;32m      1\u001b[0m \u001b[0;32mimport\u001b[0m \u001b[0mmatplotlib\u001b[0m\u001b[0;34m.\u001b[0m\u001b[0mpyplot\u001b[0m \u001b[0;32mas\u001b[0m \u001b[0mplt\u001b[0m\u001b[0;34m\u001b[0m\u001b[0;34m\u001b[0m\u001b[0m\n\u001b[0;32m----> 2\u001b[0;31m \u001b[0mplt\u001b[0m\u001b[0;34m.\u001b[0m\u001b[0mplot\u001b[0m\u001b[0;34m(\u001b[0m\u001b[0mhistory\u001b[0m\u001b[0;34m.\u001b[0m\u001b[0mhistory\u001b[0m\u001b[0;34m[\u001b[0m\u001b[0;34m'acc'\u001b[0m\u001b[0;34m]\u001b[0m\u001b[0;34m,\u001b[0m \u001b[0mlabel\u001b[0m\u001b[0;34m=\u001b[0m\u001b[0;34m'train'\u001b[0m\u001b[0;34m)\u001b[0m\u001b[0;34m\u001b[0m\u001b[0;34m\u001b[0m\u001b[0m\n\u001b[0m\u001b[1;32m      3\u001b[0m \u001b[0mplt\u001b[0m\u001b[0;34m.\u001b[0m\u001b[0mplot\u001b[0m\u001b[0;34m(\u001b[0m\u001b[0mhistory\u001b[0m\u001b[0;34m.\u001b[0m\u001b[0mhistory\u001b[0m\u001b[0;34m[\u001b[0m\u001b[0;34m'val_acc'\u001b[0m\u001b[0;34m]\u001b[0m\u001b[0;34m,\u001b[0m \u001b[0mlabel\u001b[0m\u001b[0;34m=\u001b[0m\u001b[0;34m'test'\u001b[0m\u001b[0;34m)\u001b[0m\u001b[0;34m\u001b[0m\u001b[0;34m\u001b[0m\u001b[0m\n\u001b[1;32m      4\u001b[0m \u001b[0mplt\u001b[0m\u001b[0;34m.\u001b[0m\u001b[0mtitle\u001b[0m\u001b[0;34m(\u001b[0m\u001b[0;34m\"Model Acc\"\u001b[0m\u001b[0;34m)\u001b[0m\u001b[0;34m\u001b[0m\u001b[0;34m\u001b[0m\u001b[0m\n\u001b[1;32m      5\u001b[0m \u001b[0mplt\u001b[0m\u001b[0;34m.\u001b[0m\u001b[0mxlabel\u001b[0m\u001b[0;34m(\u001b[0m\u001b[0;34m'Epochs'\u001b[0m\u001b[0;34m)\u001b[0m\u001b[0;34m\u001b[0m\u001b[0;34m\u001b[0m\u001b[0m\n",
      "\u001b[0;31mNameError\u001b[0m: name 'history' is not defined"
     ]
    }
   ],
   "source": [
    "import matplotlib.pyplot as plt\n",
    "plt.plot(history.history['acc'], label='train')\n",
    "plt.plot(history.history['val_acc'], label='test')\n",
    "plt.title(\"Model Acc\")\n",
    "plt.xlabel('Epochs')\n",
    "plt.ylabel('Accuracy')\n",
    "plt.legend();"
   ]
  },
  {
   "cell_type": "code",
   "execution_count": null,
   "metadata": {},
   "outputs": [],
   "source": [
    "_, acc = model.evaluate(X_test, y_test)\n",
    "print(\"Accuracy: \", (acc * 100.0), \"%\")"
   ]
  },
  {
   "cell_type": "code",
   "execution_count": null,
   "metadata": {},
   "outputs": [],
   "source": []
  },
  {
   "cell_type": "code",
   "execution_count": null,
   "metadata": {},
   "outputs": [],
   "source": []
  }
 ],
 "metadata": {
  "kernelspec": {
   "display_name": "Python 3",
   "language": "python",
   "name": "python3"
  },
  "language_info": {
   "codemirror_mode": {
    "name": "ipython",
    "version": 3
   },
   "file_extension": ".py",
   "mimetype": "text/x-python",
   "name": "python",
   "nbconvert_exporter": "python",
   "pygments_lexer": "ipython3",
   "version": "3.8.5"
  }
 },
 "nbformat": 4,
 "nbformat_minor": 1
}
